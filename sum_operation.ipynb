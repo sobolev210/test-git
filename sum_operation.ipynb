{
 "cells": [
  {
   "cell_type": "code",
   "execution_count": 2,
   "id": "56b30c66-1a31-434b-9c56-0d10fce83db0",
   "metadata": {},
   "outputs": [
    {
     "name": "stdout",
     "output_type": "stream",
     "text": [
      "hehe, I'm on develop branch\n"
     ]
    }
   ],
   "source": [
    "print(\"hehe, I'm on develop branch\")"
   ]
  },
  {
   "cell_type": "code",
   "execution_count": null,
   "id": "2576d04d-5dd9-4f82-8eae-f1fd06efbe43",
   "metadata": {},
   "outputs": [],
   "source": []
  }
 ],
 "metadata": {
  "kernelspec": {
   "display_name": "Python 3 (ipykernel)",
   "language": "python",
   "name": "python3"
  },
  "language_info": {
   "codemirror_mode": {
    "name": "ipython",
    "version": 3
   },
   "file_extension": ".py",
   "mimetype": "text/x-python",
   "name": "python",
   "nbconvert_exporter": "python",
   "pygments_lexer": "ipython3",
   "version": "3.9.7"
  }
 },
 "nbformat": 4,
 "nbformat_minor": 5
}
